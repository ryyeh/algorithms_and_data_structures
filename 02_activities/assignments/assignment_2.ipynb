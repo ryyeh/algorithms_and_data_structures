{
 "cells": [
  {
   "cell_type": "markdown",
   "metadata": {},
   "source": [
    "# Practice Interview\n",
    "\n",
    "## Objective\n",
    "\n",
    "_*The partner assignment aims to provide participants with the opportunity to practice coding in an interview context. You will analyze your partner's Assignment 1. Moreover, code reviews are common practice in a software development team. This assignment should give you a taste of the code review process.*_\n",
    "\n",
    "## Group Size\n",
    "\n",
    "Each group should have 2 people. You will be assigned a partner\n",
    "\n",
    "## Part 1:\n",
    "\n",
    "You and your partner must share each other's Assignment 1 submission."
   ]
  },
  {
   "cell_type": "markdown",
   "metadata": {},
   "source": [
    "Partner's assignment:\\\n",
    "https://github.com/mehulptech/algorithms_and_data_structures/blob/assignment-1/02_activities/assignments/assignment_1.ipynb"
   ]
  },
  {
   "cell_type": "markdown",
   "metadata": {},
   "source": [
    "\n",
    "## Part 2:\n",
    "\n",
    "Create a Jupyter Notebook, create 6 of the following headings, and complete the following for your partner's assignment 1:\n",
    "\n",
    "-   Paraphrase the problem in your own words.\n"
   ]
  },
  {
   "cell_type": "markdown",
   "metadata": {},
   "source": [
    "Find duplicate values in the binary tree and returns the value that's closest to the root of the tree."
   ]
  },
  {
   "cell_type": "markdown",
   "metadata": {},
   "source": [
    "\n",
    "-   Create 1 new example that demonstrates you understand the problem. Trace/walkthrough 1 example that your partner made and explain it.\n"
   ]
  },
  {
   "cell_type": "markdown",
   "metadata": {},
   "source": [
    "New example:\n",
    "\n",
    "```\n",
    "        1\n",
    "       / \\\n",
    "      2   2\n",
    "     /\n",
    "    1 \n",
    " ```\n",
    "The above tree has duplicates of 1s and 2s. Since one of the 1 is the root, 1 should be returned as the answer.\n",
    "\n",
    " My partner's example (guessing of tree structure since only an array was provided):\n",
    "\n",
    " ```\n",
    "       1\n",
    "      / \\\n",
    "     2   3\n",
    "    / \\ / \\\n",
    "   4  5 3  6\n",
    "```\n",
    "With the above example the only duplicates in the tree is the value 3. Since it is the only duplicate so it should be the returned value."
   ]
  },
  {
   "cell_type": "markdown",
   "metadata": {},
   "source": [
    "\n",
    "-   Copy the solution your partner wrote. \n"
   ]
  },
  {
   "cell_type": "code",
   "execution_count": null,
   "metadata": {},
   "outputs": [],
   "source": [
    "# Your answer here\n",
    "\n",
    "from collections import deque\n",
    "\n",
    "# Definition for a binary tree node.\n",
    "class TreeNode(object):\n",
    "    def __init__(self, val = 0, left = None, right = None):\n",
    "        self.val = val\n",
    "        self.left = left\n",
    "        self.right = right\n",
    "\n",
    "    @staticmethod\n",
    "    def is_duplicate(root: TreeNode) -> int:\n",
    "        if not root:\n",
    "            return -1  # No nodes in the tree\n",
    "        # Initialize a queue for BFS and a set to keep track of visited values\n",
    "        queue = deque([root])\n",
    "        seen = set()\n",
    "            \n",
    "        # Perform BFS\n",
    "        while queue:\n",
    "            node = queue.popleft()\n",
    "            \n",
    "            # Check if the current node's value is a duplicate\n",
    "            if node.val in seen:\n",
    "                return node.val  # Return the first duplicate found\n",
    "            \n",
    "            # Mark the value as seen\n",
    "            seen.add(node.val)\n",
    "            \n",
    "            # Add child nodes to the queue\n",
    "            if node.left:\n",
    "                queue.append(node.left)\n",
    "            if node.right:\n",
    "                queue.append(node.right)\n",
    "\n",
    "        # If no duplicate is found\n",
    "        return -1\n",
    "\n",
    "# given problem\n",
    "root = TreeNode(1)\n",
    "root.left = TreeNode(2)\n",
    "root.right = TreeNode(2)\n",
    "root.left.left = TreeNode(3)\n",
    "root.left.right = TreeNode(5)\n",
    "root.right.left = TreeNode(6)\n",
    "root.right.right = TreeNode(7)\n",
    "\n",
    "print(TreeNode.is_duplicate(root))  # Output: 2\n",
    "\n",
    "# New Example 1\n",
    "root = TreeNode(1)             \n",
    "root.left = TreeNode(2)        \n",
    "root.right = TreeNode(3)       \n",
    "root.left.left = TreeNode(4)   \n",
    "root.left.right = TreeNode(5)  \n",
    "root.right.left = TreeNode(3)  \n",
    "root.right.right = TreeNode(6)\n",
    "\n",
    "print(TreeNode.is_duplicate(root))  # Output: 3\n",
    "\n",
    "# New Example 2 (No Duplicates):\n",
    "root = TreeNode(8)             \n",
    "root.left = TreeNode(3)        \n",
    "root.right = TreeNode(10)      \n",
    "root.left.left = TreeNode(1)   \n",
    "root.left.right = TreeNode(6)  \n",
    "root.right.left = TreeNode(9)  \n",
    "root.right.right = TreeNode(14)\n",
    "\n",
    "print(TreeNode.is_duplicate(root))  # Output: -1"
   ]
  },
  {
   "cell_type": "markdown",
   "metadata": {},
   "source": [
    "\n",
    "-   Explain why their solution works in your own words.\n"
   ]
  },
  {
   "cell_type": "markdown",
   "metadata": {},
   "source": [
    "The solution does not work because it returns the first duplicate that is found but the first duplicate may not be the closest to the root. Using my example as an example:\n",
    "\n",
    "```\n",
    "        1\n",
    "       / \\\n",
    "      2   2\n",
    "     /\n",
    "    1 \n",
    " ```\n",
    "\n",
    " The code will return 2 since that's the first duplicate that is found. The correct answer should be 1 but the duplicate would not be found until the entire tree has been traversed."
   ]
  },
  {
   "cell_type": "markdown",
   "metadata": {},
   "source": [
    "\n",
    "-   Explain the problem’s time and space complexity in your own words.\n"
   ]
  },
  {
   "cell_type": "markdown",
   "metadata": {},
   "source": [
    "#### Time complexity:\n",
    "Partner's function's time complexity is **O(n)** since it traverse every nodes in the tree once.\n",
    "\n",
    "#### Space complexity:\n",
    "For space complexity, there are two data structures that should be considered.\n",
    "\n",
    "First is the queue of nodes which at worst case is when we have a full tree and have finished traversing the seond to last level and have queued all the leaf nodes to the queue. In this case we have O(n) since the space required is linear with the input.\n",
    "\n",
    "The second data structure to be considered is the list of seen values. The worst case is when there are no duplicate values and the complexity is therefore O(n).\n",
    "\n",
    "Since both are O(n) therefore the space complexity of the algorithm is **O(n)**."
   ]
  },
  {
   "cell_type": "markdown",
   "metadata": {},
   "source": [
    "\n",
    "-   Critique your partner's solution, including explanation, and if there is anything that should be adjusted.\n"
   ]
  },
  {
   "cell_type": "markdown",
   "metadata": {},
   "source": [
    "The biggest issue is the problem stated above, which is not returning the duplicate that is closest to the root. Beside the issue above and assume the logic as intended, the rest of the code are correct, clearly commented, and does not require any modification."
   ]
  },
  {
   "cell_type": "markdown",
   "metadata": {},
   "source": [
    "\n",
    "## Part 3:\n",
    "\n",
    "Please write a 200 word reflection documenting your process from assignment 1, and your presentation and review experience with your partner at the bottom of the Jupyter Notebook under a new heading \"Reflection.\" Again, export this Notebook as pdf.\n"
   ]
  },
  {
   "cell_type": "markdown",
   "metadata": {},
   "source": [
    "### Reflection"
   ]
  },
  {
   "cell_type": "markdown",
   "metadata": {},
   "source": [
    "Assignment 1 for me requires design and implementation of question 2 which is to return all root to leaf paths in a binary tree. The first step was to think about how to do it methodically. The most simple way is to walk from the root to each leaf node and writing down each path as we do it. For example, using the first example given, we will find the path between 1-->3, and then 1-->5, 1-->6, and finally 1-->7. Next step was to translate that into detail step-by-step in terms of using a treenode data structure. And finally code it and test it. Finally we go thru the code and determine the time and space complexity and check if there are any optimization that can be done.\n",
    "\n",
    "For this assignment, the approach I've taken is first determine what a solution would most likely look like, and then compare it to my partner's design and implementation. In order to find the duplicate closest to the root, it is necessary to know all the duplicate values first before determining which is the closest. That means either to walk the tree twice (once to get all the values in the tree, and second time to find the closest to the root), or alternatively to do one walk but needs to remember all the values and their distance from the root. After determining what a solution should look like, first look at my partner's code quickly revealed one major issue with the design which is returning the first found duplicate. However looking past the major issue with the code, the rest of the coding does appear to be correct and reflect the design as shown by the comment."
   ]
  },
  {
   "cell_type": "markdown",
   "metadata": {},
   "source": [
    "\n",
    "## Evaluation Criteria\n",
    "\n",
    "We are looking for the similar points as Assignment 1\n",
    "\n",
    "-   Problem is accurately stated\n",
    "\n",
    "-   New example is correct and easily understandable\n",
    "\n",
    "-   Correctness, time, and space complexity of the coding solution\n",
    "\n",
    "-   Clarity in explaining why the solution works, its time and space complexity\n",
    "\n",
    "-   Quality of critique of your partner's assignment, if necessary\n"
   ]
  },
  {
   "cell_type": "markdown",
   "metadata": {},
   "source": [
    "## Submission Information\n",
    "\n",
    "🚨 **Please review our [Assignment Submission Guide](https://github.com/UofT-DSI/onboarding/blob/main/onboarding_documents/submissions.md)** 🚨 for detailed instructions on how to format, branch, and submit your work. Following these guidelines is crucial for your submissions to be evaluated correctly.\n",
    "\n",
    "### Submission Parameters:\n",
    "* Submission Due Date: `HH:MM AM/PM - DD/MM/YYYY`\n",
    "* The branch name for your repo should be: `assignment-2`\n",
    "* What to submit for this assignment:\n",
    "    * This Jupyter Notebook (assignment_2.ipynb) should be populated and should be the only change in your pull request.\n",
    "* What the pull request link should look like for this assignment: `https://github.com/<your_github_username>/algorithms_and_data_structures/pull/<pr_id>`\n",
    "    * Open a private window in your browser. Copy and paste the link to your pull request into the address bar. Make sure you can see your pull request properly. This helps the technical facilitator and learning support staff review your submission easily.\n",
    "\n",
    "Checklist:\n",
    "- [ ] Created a branch with the correct naming convention.\n",
    "- [ ] Ensured that the repository is public.\n",
    "- [ ] Reviewed the PR description guidelines and adhered to them.\n",
    "- [ ] Verify that the link is accessible in a private browser window.\n",
    "\n",
    "If you encounter any difficulties or have questions, please don't hesitate to reach out to our team via our Slack at `#cohort-3-help`. Our Technical Facilitators and Learning Support staff are here to help you navigate any challenges.\n"
   ]
  }
 ],
 "metadata": {
  "kernelspec": {
   "display_name": "Python 3",
   "language": "python",
   "name": "python3"
  },
  "language_info": {
   "codemirror_mode": {
    "name": "ipython",
    "version": 3
   },
   "file_extension": ".py",
   "mimetype": "text/x-python",
   "name": "python",
   "nbconvert_exporter": "python",
   "pygments_lexer": "ipython3",
   "version": "3.9.19"
  }
 },
 "nbformat": 4,
 "nbformat_minor": 2
}
